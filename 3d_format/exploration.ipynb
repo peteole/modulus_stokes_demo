{
 "cells": [
  {
   "cell_type": "code",
   "execution_count": 1,
   "metadata": {},
   "outputs": [],
   "source": [
    "import pyvista as pv"
   ]
  },
  {
   "cell_type": "code",
   "execution_count": 2,
   "metadata": {},
   "outputs": [],
   "source": [
    "mb=pv.read(\"/Volumes/transcend/Documents/bgce_project/Test Data 3D/design_2.case\")\n",
    "grid=mb[0]"
   ]
  },
  {
   "cell_type": "code",
   "execution_count": 16,
   "metadata": {},
   "outputs": [
    {
     "data": {
      "text/plain": [
       "pyvista DataSetAttributes\n",
       "Association     : POINT\n",
       "Active Scalars  : Pressure\n",
       "Active Vectors  : Velocity\n",
       "Active Texture  : None\n",
       "Active Normals  : None\n",
       "Contains arrays :\n",
       "    Pressure                float32    (171180,)            SCALARS\n",
       "    Temperature             float32    (171180,)\n",
       "    Velocityi               float32    (171180,)\n",
       "    Velocityj               float32    (171180,)\n",
       "    Velocityk               float32    (171180,)\n",
       "    Velocity                float32    (171180, 3)          VECTORS"
      ]
     },
     "execution_count": 16,
     "metadata": {},
     "output_type": "execute_result"
    }
   ],
   "source": [
    "grid.point_data"
   ]
  },
  {
   "cell_type": "code",
   "execution_count": 8,
   "metadata": {},
   "outputs": [
    {
     "data": {
      "application/vnd.jupyter.widget-view+json": {
       "model_id": "b1205347ba35471b8333df687fad653a",
       "version_major": 2,
       "version_minor": 0
      },
      "text/plain": [
       "Widget(value='<iframe src=\"http://localhost:58943/index.html?ui=P_0x1576ca4d0_0&reconnect=auto\" class=\"pyvista…"
      ]
     },
     "metadata": {},
     "output_type": "display_data"
    }
   ],
   "source": [
    "grid.plot()"
   ]
  },
  {
   "cell_type": "code",
   "execution_count": 4,
   "metadata": {},
   "outputs": [
    {
     "name": "stderr",
     "output_type": "stream",
     "text": [
      "100%|██████████| 171180/171180 [00:12<00:00, 13515.56it/s]\n"
     ]
    }
   ],
   "source": [
    "edges_from = []\n",
    "edges_to = []\n",
    "import tqdm\n",
    "\n",
    "for i in tqdm.tqdm(range(grid.n_points)):\n",
    "    neighbors = grid.point_neighbors(i)\n",
    "    edges_from.extend([i]*len(neighbors))\n",
    "    edges_to.extend(neighbors)\n",
    "        "
   ]
  },
  {
   "cell_type": "code",
   "execution_count": 21,
   "metadata": {},
   "outputs": [
    {
     "data": {
      "text/plain": [
       "pyvista.core.pointset.UnstructuredGrid"
      ]
     },
     "execution_count": 21,
     "metadata": {},
     "output_type": "execute_result"
    }
   ],
   "source": [
    "type(grid)"
   ]
  },
  {
   "cell_type": "code",
   "execution_count": 13,
   "metadata": {},
   "outputs": [
    {
     "data": {
      "text/plain": [
       "(171180, 3)"
      ]
     },
     "execution_count": 13,
     "metadata": {},
     "output_type": "execute_result"
    }
   ],
   "source": [
    "grid.points.shape"
   ]
  },
  {
   "cell_type": "code",
   "execution_count": 18,
   "metadata": {},
   "outputs": [
    {
     "data": {
      "text/plain": [
       "Graph(num_nodes=171180, num_edges=4184652,\n",
       "      ndata_schemes={'pos': Scheme(shape=(3,), dtype=torch.float32), 'velocity': Scheme(shape=(3,), dtype=torch.float32), 'pressure': Scheme(shape=(), dtype=torch.float32)}\n",
       "      edata_schemes={})"
      ]
     },
     "execution_count": 18,
     "metadata": {},
     "output_type": "execute_result"
    }
   ],
   "source": [
    "import dgl\n",
    "import torch\n",
    "\n",
    "graph=dgl.graph((edges_from, edges_to),num_nodes=grid.n_points)\n",
    "graph.ndata['pos'] = torch.tensor(grid.points, dtype=torch.float32)\n",
    "graph.ndata['velocity'] = torch.tensor(grid.point_data['Velocity'], dtype=torch.float32)\n",
    "graph.ndata['pressure'] = torch.tensor(grid.point_data['Pressure'], dtype=torch.float32)\n",
    "graph"
   ]
  },
  {
   "cell_type": "code",
   "execution_count": 26,
   "metadata": {},
   "outputs": [
    {
     "data": {
      "text/plain": [
       "[0,\n",
       " 2,\n",
       " 3,\n",
       " 4,\n",
       " 5,\n",
       " 87942,\n",
       " 87943,\n",
       " 8,\n",
       " 9,\n",
       " 10,\n",
       " 7,\n",
       " 11,\n",
       " 6,\n",
       " 32,\n",
       " 33,\n",
       " 34,\n",
       " 35,\n",
       " 38,\n",
       " 39,\n",
       " 88622,\n",
       " 88623,\n",
       " 88883,\n",
       " 88508,\n",
       " 88265,\n",
       " 88266,\n",
       " 88164]"
      ]
     },
     "execution_count": 26,
     "metadata": {},
     "output_type": "execute_result"
    }
   ],
   "source": [
    "grid.point_neighbors(1)"
   ]
  }
 ],
 "metadata": {
  "kernelspec": {
   "display_name": "Python 3",
   "language": "python",
   "name": "python3"
  },
  "language_info": {
   "codemirror_mode": {
    "name": "ipython",
    "version": 3
   },
   "file_extension": ".py",
   "mimetype": "text/x-python",
   "name": "python",
   "nbconvert_exporter": "python",
   "pygments_lexer": "ipython3",
   "version": "3.11.10"
  }
 },
 "nbformat": 4,
 "nbformat_minor": 2
}
