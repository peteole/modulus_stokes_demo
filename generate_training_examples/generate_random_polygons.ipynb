{
 "cells": [
  {
   "cell_type": "code",
   "execution_count": 23,
   "metadata": {},
   "outputs": [
    {
     "data": {
      "text/html": [
       "<div>\n",
       "<style scoped>\n",
       "    .dataframe tbody tr th:only-of-type {\n",
       "        vertical-align: middle;\n",
       "    }\n",
       "\n",
       "    .dataframe tbody tr th {\n",
       "        vertical-align: top;\n",
       "    }\n",
       "\n",
       "    .dataframe thead th {\n",
       "        text-align: right;\n",
       "    }\n",
       "</style>\n",
       "<table border=\"1\" class=\"dataframe\">\n",
       "  <thead>\n",
       "    <tr style=\"text-align: right;\">\n",
       "      <th></th>\n",
       "      <th>x_0</th>\n",
       "      <th>x_1</th>\n",
       "      <th>x_2</th>\n",
       "      <th>x_3</th>\n",
       "      <th>x_4</th>\n",
       "      <th>y_0</th>\n",
       "      <th>y_1</th>\n",
       "      <th>y_2</th>\n",
       "      <th>y_3</th>\n",
       "      <th>y_4</th>\n",
       "    </tr>\n",
       "  </thead>\n",
       "  <tbody>\n",
       "    <tr>\n",
       "      <th>0</th>\n",
       "      <td>0.780841</td>\n",
       "      <td>0.412631</td>\n",
       "      <td>0.582141</td>\n",
       "      <td>0.632504</td>\n",
       "      <td>0.774461</td>\n",
       "      <td>0.218075</td>\n",
       "      <td>0.208303</td>\n",
       "      <td>0.139985</td>\n",
       "      <td>0.124931</td>\n",
       "      <td>0.160470</td>\n",
       "    </tr>\n",
       "    <tr>\n",
       "      <th>1</th>\n",
       "      <td>0.413330</td>\n",
       "      <td>0.379247</td>\n",
       "      <td>0.492030</td>\n",
       "      <td>0.488327</td>\n",
       "      <td>0.412910</td>\n",
       "      <td>0.199876</td>\n",
       "      <td>0.220482</td>\n",
       "      <td>0.139774</td>\n",
       "      <td>0.185631</td>\n",
       "      <td>0.229766</td>\n",
       "    </tr>\n",
       "    <tr>\n",
       "      <th>2</th>\n",
       "      <td>0.474126</td>\n",
       "      <td>0.286822</td>\n",
       "      <td>0.220453</td>\n",
       "      <td>0.552967</td>\n",
       "      <td>0.745606</td>\n",
       "      <td>0.179181</td>\n",
       "      <td>0.164937</td>\n",
       "      <td>0.166140</td>\n",
       "      <td>0.285232</td>\n",
       "      <td>0.281466</td>\n",
       "    </tr>\n",
       "    <tr>\n",
       "      <th>3</th>\n",
       "      <td>0.348811</td>\n",
       "      <td>0.262254</td>\n",
       "      <td>0.255890</td>\n",
       "      <td>0.223535</td>\n",
       "      <td>0.659115</td>\n",
       "      <td>0.265608</td>\n",
       "      <td>0.251835</td>\n",
       "      <td>0.116110</td>\n",
       "      <td>0.278234</td>\n",
       "      <td>0.278481</td>\n",
       "    </tr>\n",
       "    <tr>\n",
       "      <th>4</th>\n",
       "      <td>0.796266</td>\n",
       "      <td>0.414970</td>\n",
       "      <td>0.395554</td>\n",
       "      <td>0.328437</td>\n",
       "      <td>0.272585</td>\n",
       "      <td>0.250263</td>\n",
       "      <td>0.188258</td>\n",
       "      <td>0.198085</td>\n",
       "      <td>0.102291</td>\n",
       "      <td>0.277796</td>\n",
       "    </tr>\n",
       "    <tr>\n",
       "      <th>...</th>\n",
       "      <td>...</td>\n",
       "      <td>...</td>\n",
       "      <td>...</td>\n",
       "      <td>...</td>\n",
       "      <td>...</td>\n",
       "      <td>...</td>\n",
       "      <td>...</td>\n",
       "      <td>...</td>\n",
       "      <td>...</td>\n",
       "      <td>...</td>\n",
       "    </tr>\n",
       "    <tr>\n",
       "      <th>295</th>\n",
       "      <td>0.493048</td>\n",
       "      <td>0.603348</td>\n",
       "      <td>0.405091</td>\n",
       "      <td>0.240991</td>\n",
       "      <td>0.588374</td>\n",
       "      <td>0.199653</td>\n",
       "      <td>0.169420</td>\n",
       "      <td>0.110847</td>\n",
       "      <td>0.238839</td>\n",
       "      <td>0.285879</td>\n",
       "    </tr>\n",
       "    <tr>\n",
       "      <th>296</th>\n",
       "      <td>0.701495</td>\n",
       "      <td>0.420202</td>\n",
       "      <td>0.350634</td>\n",
       "      <td>0.297398</td>\n",
       "      <td>0.619906</td>\n",
       "      <td>0.158062</td>\n",
       "      <td>0.144082</td>\n",
       "      <td>0.219357</td>\n",
       "      <td>0.261665</td>\n",
       "      <td>0.224531</td>\n",
       "    </tr>\n",
       "    <tr>\n",
       "      <th>297</th>\n",
       "      <td>0.724680</td>\n",
       "      <td>0.454325</td>\n",
       "      <td>0.316605</td>\n",
       "      <td>0.528567</td>\n",
       "      <td>0.737784</td>\n",
       "      <td>0.233306</td>\n",
       "      <td>0.202028</td>\n",
       "      <td>0.205868</td>\n",
       "      <td>0.106569</td>\n",
       "      <td>0.108335</td>\n",
       "    </tr>\n",
       "    <tr>\n",
       "      <th>298</th>\n",
       "      <td>0.305194</td>\n",
       "      <td>0.587300</td>\n",
       "      <td>0.491937</td>\n",
       "      <td>0.744076</td>\n",
       "      <td>0.523541</td>\n",
       "      <td>0.137533</td>\n",
       "      <td>0.151167</td>\n",
       "      <td>0.197820</td>\n",
       "      <td>0.121651</td>\n",
       "      <td>0.116510</td>\n",
       "    </tr>\n",
       "    <tr>\n",
       "      <th>299</th>\n",
       "      <td>0.795358</td>\n",
       "      <td>0.473604</td>\n",
       "      <td>0.421933</td>\n",
       "      <td>0.296336</td>\n",
       "      <td>0.766891</td>\n",
       "      <td>0.237416</td>\n",
       "      <td>0.288500</td>\n",
       "      <td>0.263206</td>\n",
       "      <td>0.109234</td>\n",
       "      <td>0.110050</td>\n",
       "    </tr>\n",
       "  </tbody>\n",
       "</table>\n",
       "<p>300 rows × 10 columns</p>\n",
       "</div>"
      ],
      "text/plain": [
       "          x_0       x_1       x_2       x_3       x_4       y_0       y_1  \\\n",
       "0    0.780841  0.412631  0.582141  0.632504  0.774461  0.218075  0.208303   \n",
       "1    0.413330  0.379247  0.492030  0.488327  0.412910  0.199876  0.220482   \n",
       "2    0.474126  0.286822  0.220453  0.552967  0.745606  0.179181  0.164937   \n",
       "3    0.348811  0.262254  0.255890  0.223535  0.659115  0.265608  0.251835   \n",
       "4    0.796266  0.414970  0.395554  0.328437  0.272585  0.250263  0.188258   \n",
       "..        ...       ...       ...       ...       ...       ...       ...   \n",
       "295  0.493048  0.603348  0.405091  0.240991  0.588374  0.199653  0.169420   \n",
       "296  0.701495  0.420202  0.350634  0.297398  0.619906  0.158062  0.144082   \n",
       "297  0.724680  0.454325  0.316605  0.528567  0.737784  0.233306  0.202028   \n",
       "298  0.305194  0.587300  0.491937  0.744076  0.523541  0.137533  0.151167   \n",
       "299  0.795358  0.473604  0.421933  0.296336  0.766891  0.237416  0.288500   \n",
       "\n",
       "          y_2       y_3       y_4  \n",
       "0    0.139985  0.124931  0.160470  \n",
       "1    0.139774  0.185631  0.229766  \n",
       "2    0.166140  0.285232  0.281466  \n",
       "3    0.116110  0.278234  0.278481  \n",
       "4    0.198085  0.102291  0.277796  \n",
       "..        ...       ...       ...  \n",
       "295  0.110847  0.238839  0.285879  \n",
       "296  0.219357  0.261665  0.224531  \n",
       "297  0.205868  0.106569  0.108335  \n",
       "298  0.197820  0.121651  0.116510  \n",
       "299  0.263206  0.109234  0.110050  \n",
       "\n",
       "[300 rows x 10 columns]"
      ]
     },
     "execution_count": 23,
     "metadata": {},
     "output_type": "execute_result"
    }
   ],
   "source": [
    "import shapely\n",
    "import pandas as pd\n",
    "import numpy as np\n",
    "\n",
    "x_min = 0.2\n",
    "x_max = 0.8\n",
    "y_min = 0.1\n",
    "y_max = 0.3\n",
    "\n",
    "\n",
    "num_points = 5\n",
    "num_polygons = 300\n",
    "polygons = pd.DataFrame({\n",
    "    f'x_{i}': np.zeros(num_polygons) for i in range(num_points)\n",
    "}|{\n",
    "    f'y_{i}': np.zeros(num_polygons) for i in range(num_points)\n",
    "})\n",
    "polygons_geometries=[]\n",
    "\n",
    "for i in range(num_polygons):\n",
    "    is_valid = False\n",
    "    while not is_valid:\n",
    "        for j in range(num_points):\n",
    "            polygons[f'x_{j}'][i] = np.random.uniform(x_min, x_max)\n",
    "            polygons[f'y_{j}'][i] = np.random.uniform(y_min, y_max)\n",
    "        polygon = shapely.geometry.Polygon(zip([polygons[f'x_{j}'][i] for j in range(num_points)], [polygons[f'y_{j}'][i] for j in range(num_points)]))\n",
    "        is_valid = polygon.is_simple\n",
    "    polygons_geometries.append(polygon)\n",
    "polygons"
   ]
  },
  {
   "cell_type": "code",
   "execution_count": 24,
   "metadata": {},
   "outputs": [],
   "source": [
    "col_order=[]\n",
    "for i in range(num_points):\n",
    "    col_order.append(f'x_{i}')\n",
    "    col_order.append(f'y_{i}')\n",
    "polygons[col_order].to_csv('polygons.csv', index=False)"
   ]
  },
  {
   "cell_type": "code",
   "execution_count": 26,
   "metadata": {},
   "outputs": [
    {
     "data": {
      "image/svg+xml": [
       "<svg xmlns=\"http://www.w3.org/2000/svg\" xmlns:xlink=\"http://www.w3.org/1999/xlink\" width=\"100.0\" height=\"100.0\" viewBox=\"0.3979022662636602 0.11020307336982624 0.39766670763467116 0.12260077878640377\" preserveAspectRatio=\"xMinYMin meet\"><g transform=\"matrix(1,0,0,-1,0,0.34300692552605627)\"><path fill-rule=\"evenodd\" fill=\"#66cc99\" stroke=\"#555555\" stroke-width=\"0.007953334152693423\" opacity=\"0.6\" d=\"M 0.7808405773192695,0.21807545557716812 L 0.4126306628427221,0.2083034868847622 L 0.5821407961346413,0.13998461321932776 L 0.6325044550935763,0.12493146994888814 L 0.7744612663000667,0.16046972134577714 L 0.7808405773192695,0.21807545557716812 z\" /></g></svg>"
      ],
      "text/plain": [
       "<POLYGON ((0.781 0.218, 0.413 0.208, 0.582 0.14, 0.633 0.125, 0.774 0.16, 0....>"
      ]
     },
     "metadata": {},
     "output_type": "display_data"
    },
    {
     "data": {
      "image/svg+xml": [
       "<svg xmlns=\"http://www.w3.org/2000/svg\" xmlns:xlink=\"http://www.w3.org/1999/xlink\" width=\"100.0\" height=\"100.0\" viewBox=\"0.37473542110418867 0.13526310684356285 0.12180594356881053 0.09901459006285351\" preserveAspectRatio=\"xMinYMin meet\"><g transform=\"matrix(1,0,0,-1,0,0.3695408037499792)\"><path fill-rule=\"evenodd\" fill=\"#66cc99\" stroke=\"#555555\" stroke-width=\"0.0024361188713762105\" opacity=\"0.6\" d=\"M 0.4133302219159775,0.19987578606230838 L 0.37924675234747796,0.22048157191911155 L 0.4920300334297099,0.13977443808685214 L 0.4883267046551671,0.1856314484101635 L 0.4129096684734876,0.22976636566312708 L 0.4133302219159775,0.19987578606230838 z\" /></g></svg>"
      ],
      "text/plain": [
       "<POLYGON ((0.413 0.2, 0.379 0.22, 0.492 0.14, 0.488 0.186, 0.413 0.23, 0.413...>"
      ]
     },
     "metadata": {},
     "output_type": "display_data"
    },
    {
     "data": {
      "image/svg+xml": [
       "<svg xmlns=\"http://www.w3.org/2000/svg\" xmlns:xlink=\"http://www.w3.org/1999/xlink\" width=\"100.0\" height=\"100.0\" viewBox=\"0.1994463843209745 0.14393054254744503 0.5671660691555813 0.1623072384196435\" preserveAspectRatio=\"xMinYMin meet\"><g transform=\"matrix(1,0,0,-1,0,0.45016832351453356)\"><path fill-rule=\"evenodd\" fill=\"#66cc99\" stroke=\"#555555\" stroke-width=\"0.011343321383111626\" opacity=\"0.6\" d=\"M 0.47412580199784915,0.17918111502753 L 0.28682178349670945,0.16493669325691102 L 0.22045253503044046,0.16614038669092362 L 0.5529666023493115,0.28523163025762255 L 0.7456063027670898,0.2814660296442052 L 0.47412580199784915,0.17918111502753 z\" /></g></svg>"
      ],
      "text/plain": [
       "<POLYGON ((0.474 0.179, 0.287 0.165, 0.22 0.166, 0.553 0.285, 0.746 0.281, 0...>"
      ]
     },
     "metadata": {},
     "output_type": "display_data"
    },
    {
     "data": {
      "image/svg+xml": [
       "<svg xmlns=\"http://www.w3.org/2000/svg\" xmlns:xlink=\"http://www.w3.org/1999/xlink\" width=\"100.0\" height=\"100.0\" viewBox=\"0.2061116022837175 0.09868634375445134 0.4704261511180242 0.19721814879132066\" preserveAspectRatio=\"xMinYMin meet\"><g transform=\"matrix(1,0,0,-1,0,0.39459083630022335)\"><path fill-rule=\"evenodd\" fill=\"#66cc99\" stroke=\"#555555\" stroke-width=\"0.009408523022360483\" opacity=\"0.6\" d=\"M 0.34881090735069475,0.26560764824401506 L 0.2622539445423125,0.25183480594725816 L 0.25589036358827555,0.11610953453660039 L 0.22353479306586654,0.27823377412898226 L 0.6591145626195927,0.27848130176362296 L 0.34881090735069475,0.26560764824401506 z\" /></g></svg>"
      ],
      "text/plain": [
       "<POLYGON ((0.349 0.266, 0.262 0.252, 0.256 0.116, 0.224 0.278, 0.659 0.278, ...>"
      ]
     },
     "metadata": {},
     "output_type": "display_data"
    },
    {
     "data": {
      "image/svg+xml": [
       "<svg xmlns=\"http://www.w3.org/2000/svg\" xmlns:xlink=\"http://www.w3.org/1999/xlink\" width=\"100.0\" height=\"100.0\" viewBox=\"0.2516377585086699 0.08134418007475785 0.5655758791541018 0.21739915295283563\" preserveAspectRatio=\"xMinYMin meet\"><g transform=\"matrix(1,0,0,-1,0,0.38008751310235134)\"><path fill-rule=\"evenodd\" fill=\"#66cc99\" stroke=\"#555555\" stroke-width=\"0.011311517583082036\" opacity=\"0.6\" d=\"M 0.7962663828792864,0.25026325048988685 L 0.4149698467538106,0.18825772443820088 L 0.3955535954215875,0.19808501607522427 L 0.3284366916779521,0.1022914348582431 L 0.2725850132921551,0.27779607824410824 L 0.7962663828792864,0.25026325048988685 z\" /></g></svg>"
      ],
      "text/plain": [
       "<POLYGON ((0.796 0.25, 0.415 0.188, 0.396 0.198, 0.328 0.102, 0.273 0.278, 0...>"
      ]
     },
     "metadata": {},
     "output_type": "display_data"
    },
    {
     "data": {
      "image/svg+xml": [
       "<svg xmlns=\"http://www.w3.org/2000/svg\" xmlns:xlink=\"http://www.w3.org/1999/xlink\" width=\"100.0\" height=\"100.0\" viewBox=\"0.29024848387280977 0.08672488393900267 0.4228920810130924 0.22463691075274006\" preserveAspectRatio=\"xMinYMin meet\"><g transform=\"matrix(1,0,0,-1,0,0.3980866786307454)\"><path fill-rule=\"evenodd\" fill=\"#66cc99\" stroke=\"#555555\" stroke-width=\"0.008457841620261848\" opacity=\"0.6\" d=\"M 0.6435370622479335,0.18918097282388502 L 0.6943214329399688,0.29569912502459117 L 0.591668858958725,0.16013564744708417 L 0.30591115353996134,0.10238755360615424 L 0.6974778952187506,0.17090757777950155 L 0.6435370622479335,0.18918097282388502 z\" /></g></svg>"
      ],
      "text/plain": [
       "<POLYGON ((0.644 0.189, 0.694 0.296, 0.592 0.16, 0.306 0.102, 0.697 0.171, 0...>"
      ]
     },
     "metadata": {},
     "output_type": "display_data"
    },
    {
     "data": {
      "image/svg+xml": [
       "<svg xmlns=\"http://www.w3.org/2000/svg\" xmlns:xlink=\"http://www.w3.org/1999/xlink\" width=\"100.0\" height=\"100.0\" viewBox=\"0.23580148218989233 0.11801591946852225 0.43894010782901466 0.1750559985974856\" preserveAspectRatio=\"xMinYMin meet\"><g transform=\"matrix(1,0,0,-1,0,0.4110878375345301)\"><path fill-rule=\"evenodd\" fill=\"#66cc99\" stroke=\"#555555\" stroke-width=\"0.008778802156580293\" opacity=\"0.6\" d=\"M 0.5818485651932835,0.15852387770173923 L 0.6584845489882027,0.1342729604992265 L 0.3282783836185168,0.18805202196126525 L 0.2520585232205966,0.2471320656609118 L 0.5978851090116774,0.2768148770353036 L 0.5818485651932835,0.15852387770173923 z\" /></g></svg>"
      ],
      "text/plain": [
       "<POLYGON ((0.582 0.159, 0.658 0.134, 0.328 0.188, 0.252 0.247, 0.598 0.277, ...>"
      ]
     },
     "metadata": {},
     "output_type": "display_data"
    },
    {
     "data": {
      "image/svg+xml": [
       "<svg xmlns=\"http://www.w3.org/2000/svg\" xmlns:xlink=\"http://www.w3.org/1999/xlink\" width=\"100.0\" height=\"100.0\" viewBox=\"0.5052421793058939 0.10013099091123547 0.2883013544141392 0.20431533101548682\" preserveAspectRatio=\"xMinYMin meet\"><g transform=\"matrix(1,0,0,-1,0,0.4045773128379577)\"><path fill-rule=\"evenodd\" fill=\"#66cc99\" stroke=\"#555555\" stroke-width=\"0.005766027088282784\" opacity=\"0.6\" d=\"M 0.5159200072471583,0.1565171120771477 L 0.5669182402031121,0.29376849398545785 L 0.7828657057787687,0.2402441770261145 L 0.5403863639318798,0.11080881885249988 L 0.6476031331835594,0.17840967361146365 L 0.5159200072471583,0.1565171120771477 z\" /></g></svg>"
      ],
      "text/plain": [
       "<POLYGON ((0.516 0.157, 0.567 0.294, 0.783 0.24, 0.54 0.111, 0.648 0.178, 0....>"
      ]
     },
     "metadata": {},
     "output_type": "display_data"
    },
    {
     "data": {
      "image/svg+xml": [
       "<svg xmlns=\"http://www.w3.org/2000/svg\" xmlns:xlink=\"http://www.w3.org/1999/xlink\" width=\"100.0\" height=\"100.0\" viewBox=\"0.20045100964382687 0.0819238618292322 0.5245147000592845 0.2375011822450064\" preserveAspectRatio=\"xMinYMin meet\"><g transform=\"matrix(1,0,0,-1,0,0.40134890590347083)\"><path fill-rule=\"evenodd\" fill=\"#66cc99\" stroke=\"#555555\" stroke-width=\"0.01049029400118569\" opacity=\"0.6\" d=\"M 0.7055392393305453,0.2999985737016725 L 0.4748901586672297,0.25929903386002234 L 0.6440444006313206,0.1990878557636959 L 0.35420256767213465,0.10135033220179829 L 0.21987748001639296,0.23172362403040755 L 0.7055392393305453,0.2999985737016725 z\" /></g></svg>"
      ],
      "text/plain": [
       "<POLYGON ((0.706 0.3, 0.475 0.259, 0.644 0.199, 0.354 0.101, 0.22 0.232, 0.7...>"
      ]
     },
     "metadata": {},
     "output_type": "display_data"
    },
    {
     "data": {
      "image/svg+xml": [
       "<svg xmlns=\"http://www.w3.org/2000/svg\" xmlns:xlink=\"http://www.w3.org/1999/xlink\" width=\"100.0\" height=\"100.0\" viewBox=\"0.5124587378346849 0.14517883035238296 0.17310010728140324 0.1450003732399058\" preserveAspectRatio=\"xMinYMin meet\"><g transform=\"matrix(1,0,0,-1,0,0.43535803394467176)\"><path fill-rule=\"evenodd\" fill=\"#66cc99\" stroke=\"#555555\" stroke-width=\"0.0034620021456280648\" opacity=\"0.6\" d=\"M 0.5188698529191813,0.1685136808859286 L 0.6553136655850815,0.15158994543687937 L 0.5620131570624967,0.16873921761248414 L 0.6791477300315917,0.24723087649659284 L 0.5981879431843147,0.28376808850779234 L 0.5188698529191813,0.1685136808859286 z\" /></g></svg>"
      ],
      "text/plain": [
       "<POLYGON ((0.519 0.169, 0.655 0.152, 0.562 0.169, 0.679 0.247, 0.598 0.284, ...>"
      ]
     },
     "metadata": {},
     "output_type": "display_data"
    }
   ],
   "source": [
    "from IPython.display import display\n",
    "\n",
    "for i in range(10):\n",
    "    display(polygons_geometries[i])"
   ]
  }
 ],
 "metadata": {
  "kernelspec": {
   "display_name": "Python 3",
   "language": "python",
   "name": "python3"
  },
  "language_info": {
   "codemirror_mode": {
    "name": "ipython",
    "version": 3
   },
   "file_extension": ".py",
   "mimetype": "text/x-python",
   "name": "python",
   "nbconvert_exporter": "python",
   "pygments_lexer": "ipython3",
   "version": "3.11.9"
  }
 },
 "nbformat": 4,
 "nbformat_minor": 2
}
