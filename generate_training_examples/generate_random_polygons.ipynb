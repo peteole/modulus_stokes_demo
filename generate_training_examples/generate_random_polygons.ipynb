{
 "cells": [
  {
   "cell_type": "code",
   "execution_count": 27,
   "metadata": {},
   "outputs": [
    {
     "data": {
      "text/html": [
       "<div>\n",
       "<style scoped>\n",
       "    .dataframe tbody tr th:only-of-type {\n",
       "        vertical-align: middle;\n",
       "    }\n",
       "\n",
       "    .dataframe tbody tr th {\n",
       "        vertical-align: top;\n",
       "    }\n",
       "\n",
       "    .dataframe thead th {\n",
       "        text-align: right;\n",
       "    }\n",
       "</style>\n",
       "<table border=\"1\" class=\"dataframe\">\n",
       "  <thead>\n",
       "    <tr style=\"text-align: right;\">\n",
       "      <th></th>\n",
       "      <th>x_0</th>\n",
       "      <th>x_1</th>\n",
       "      <th>x_2</th>\n",
       "      <th>x_3</th>\n",
       "      <th>x_4</th>\n",
       "      <th>y_0</th>\n",
       "      <th>y_1</th>\n",
       "      <th>y_2</th>\n",
       "      <th>y_3</th>\n",
       "      <th>y_4</th>\n",
       "    </tr>\n",
       "  </thead>\n",
       "  <tbody>\n",
       "    <tr>\n",
       "      <th>0</th>\n",
       "      <td>0.344626</td>\n",
       "      <td>0.790790</td>\n",
       "      <td>0.562326</td>\n",
       "      <td>0.347485</td>\n",
       "      <td>0.404130</td>\n",
       "      <td>0.224526</td>\n",
       "      <td>0.122154</td>\n",
       "      <td>0.137759</td>\n",
       "      <td>0.157048</td>\n",
       "      <td>0.156963</td>\n",
       "    </tr>\n",
       "    <tr>\n",
       "      <th>1</th>\n",
       "      <td>0.436751</td>\n",
       "      <td>0.436605</td>\n",
       "      <td>0.767282</td>\n",
       "      <td>0.644803</td>\n",
       "      <td>0.690849</td>\n",
       "      <td>0.215429</td>\n",
       "      <td>0.152400</td>\n",
       "      <td>0.103491</td>\n",
       "      <td>0.141239</td>\n",
       "      <td>0.122227</td>\n",
       "    </tr>\n",
       "    <tr>\n",
       "      <th>2</th>\n",
       "      <td>0.714241</td>\n",
       "      <td>0.282921</td>\n",
       "      <td>0.277158</td>\n",
       "      <td>0.291979</td>\n",
       "      <td>0.678853</td>\n",
       "      <td>0.188107</td>\n",
       "      <td>0.125723</td>\n",
       "      <td>0.202522</td>\n",
       "      <td>0.140566</td>\n",
       "      <td>0.231609</td>\n",
       "    </tr>\n",
       "    <tr>\n",
       "      <th>3</th>\n",
       "      <td>0.698303</td>\n",
       "      <td>0.320427</td>\n",
       "      <td>0.467640</td>\n",
       "      <td>0.343993</td>\n",
       "      <td>0.322214</td>\n",
       "      <td>0.209855</td>\n",
       "      <td>0.185945</td>\n",
       "      <td>0.180728</td>\n",
       "      <td>0.163058</td>\n",
       "      <td>0.129902</td>\n",
       "    </tr>\n",
       "    <tr>\n",
       "      <th>4</th>\n",
       "      <td>0.406042</td>\n",
       "      <td>0.580637</td>\n",
       "      <td>0.765247</td>\n",
       "      <td>0.303481</td>\n",
       "      <td>0.387138</td>\n",
       "      <td>0.247829</td>\n",
       "      <td>0.142519</td>\n",
       "      <td>0.267541</td>\n",
       "      <td>0.248442</td>\n",
       "      <td>0.179022</td>\n",
       "    </tr>\n",
       "    <tr>\n",
       "      <th>...</th>\n",
       "      <td>...</td>\n",
       "      <td>...</td>\n",
       "      <td>...</td>\n",
       "      <td>...</td>\n",
       "      <td>...</td>\n",
       "      <td>...</td>\n",
       "      <td>...</td>\n",
       "      <td>...</td>\n",
       "      <td>...</td>\n",
       "      <td>...</td>\n",
       "    </tr>\n",
       "    <tr>\n",
       "      <th>995</th>\n",
       "      <td>0.471918</td>\n",
       "      <td>0.354940</td>\n",
       "      <td>0.550490</td>\n",
       "      <td>0.517723</td>\n",
       "      <td>0.533447</td>\n",
       "      <td>0.103401</td>\n",
       "      <td>0.161756</td>\n",
       "      <td>0.232542</td>\n",
       "      <td>0.175236</td>\n",
       "      <td>0.150731</td>\n",
       "    </tr>\n",
       "    <tr>\n",
       "      <th>996</th>\n",
       "      <td>0.763349</td>\n",
       "      <td>0.375848</td>\n",
       "      <td>0.324180</td>\n",
       "      <td>0.303365</td>\n",
       "      <td>0.316248</td>\n",
       "      <td>0.198496</td>\n",
       "      <td>0.274818</td>\n",
       "      <td>0.178098</td>\n",
       "      <td>0.267068</td>\n",
       "      <td>0.117883</td>\n",
       "    </tr>\n",
       "    <tr>\n",
       "      <th>997</th>\n",
       "      <td>0.385619</td>\n",
       "      <td>0.580129</td>\n",
       "      <td>0.201872</td>\n",
       "      <td>0.653029</td>\n",
       "      <td>0.600487</td>\n",
       "      <td>0.135381</td>\n",
       "      <td>0.209822</td>\n",
       "      <td>0.103234</td>\n",
       "      <td>0.132499</td>\n",
       "      <td>0.204638</td>\n",
       "    </tr>\n",
       "    <tr>\n",
       "      <th>998</th>\n",
       "      <td>0.609904</td>\n",
       "      <td>0.510737</td>\n",
       "      <td>0.338019</td>\n",
       "      <td>0.368635</td>\n",
       "      <td>0.508749</td>\n",
       "      <td>0.291292</td>\n",
       "      <td>0.217981</td>\n",
       "      <td>0.163013</td>\n",
       "      <td>0.158798</td>\n",
       "      <td>0.209674</td>\n",
       "    </tr>\n",
       "    <tr>\n",
       "      <th>999</th>\n",
       "      <td>0.516854</td>\n",
       "      <td>0.512213</td>\n",
       "      <td>0.605841</td>\n",
       "      <td>0.264445</td>\n",
       "      <td>0.669316</td>\n",
       "      <td>0.128164</td>\n",
       "      <td>0.145188</td>\n",
       "      <td>0.173121</td>\n",
       "      <td>0.228750</td>\n",
       "      <td>0.174615</td>\n",
       "    </tr>\n",
       "  </tbody>\n",
       "</table>\n",
       "<p>1000 rows × 10 columns</p>\n",
       "</div>"
      ],
      "text/plain": [
       "          x_0       x_1       x_2       x_3       x_4       y_0       y_1  \\\n",
       "0    0.344626  0.790790  0.562326  0.347485  0.404130  0.224526  0.122154   \n",
       "1    0.436751  0.436605  0.767282  0.644803  0.690849  0.215429  0.152400   \n",
       "2    0.714241  0.282921  0.277158  0.291979  0.678853  0.188107  0.125723   \n",
       "3    0.698303  0.320427  0.467640  0.343993  0.322214  0.209855  0.185945   \n",
       "4    0.406042  0.580637  0.765247  0.303481  0.387138  0.247829  0.142519   \n",
       "..        ...       ...       ...       ...       ...       ...       ...   \n",
       "995  0.471918  0.354940  0.550490  0.517723  0.533447  0.103401  0.161756   \n",
       "996  0.763349  0.375848  0.324180  0.303365  0.316248  0.198496  0.274818   \n",
       "997  0.385619  0.580129  0.201872  0.653029  0.600487  0.135381  0.209822   \n",
       "998  0.609904  0.510737  0.338019  0.368635  0.508749  0.291292  0.217981   \n",
       "999  0.516854  0.512213  0.605841  0.264445  0.669316  0.128164  0.145188   \n",
       "\n",
       "          y_2       y_3       y_4  \n",
       "0    0.137759  0.157048  0.156963  \n",
       "1    0.103491  0.141239  0.122227  \n",
       "2    0.202522  0.140566  0.231609  \n",
       "3    0.180728  0.163058  0.129902  \n",
       "4    0.267541  0.248442  0.179022  \n",
       "..        ...       ...       ...  \n",
       "995  0.232542  0.175236  0.150731  \n",
       "996  0.178098  0.267068  0.117883  \n",
       "997  0.103234  0.132499  0.204638  \n",
       "998  0.163013  0.158798  0.209674  \n",
       "999  0.173121  0.228750  0.174615  \n",
       "\n",
       "[1000 rows x 10 columns]"
      ]
     },
     "execution_count": 27,
     "metadata": {},
     "output_type": "execute_result"
    }
   ],
   "source": [
    "import shapely\n",
    "import pandas as pd\n",
    "import numpy as np\n",
    "\n",
    "x_min = 0.2\n",
    "x_max = 0.8\n",
    "y_min = 0.1\n",
    "y_max = 0.3\n",
    "\n",
    "\n",
    "num_points = 5\n",
    "num_polygons = 1000\n",
    "polygons = pd.DataFrame({\n",
    "    f'x_{i}': np.zeros(num_polygons) for i in range(num_points)\n",
    "}|{\n",
    "    f'y_{i}': np.zeros(num_polygons) for i in range(num_points)\n",
    "})\n",
    "polygons_geometries=[]\n",
    "\n",
    "for i in range(num_polygons):\n",
    "    is_valid = False\n",
    "    while not is_valid:\n",
    "        for j in range(num_points):\n",
    "            polygons[f'x_{j}'][i] = np.random.uniform(x_min, x_max)\n",
    "            polygons[f'y_{j}'][i] = np.random.uniform(y_min, y_max)\n",
    "        polygon = shapely.geometry.Polygon(zip([polygons[f'x_{j}'][i] for j in range(num_points)], [polygons[f'y_{j}'][i] for j in range(num_points)]))\n",
    "        is_valid = polygon.is_simple\n",
    "    polygons_geometries.append(polygon)\n",
    "polygons"
   ]
  },
  {
   "cell_type": "code",
   "execution_count": 28,
   "metadata": {},
   "outputs": [],
   "source": [
    "col_order=[]\n",
    "for i in range(num_points):\n",
    "    col_order.append(f'x_{i}')\n",
    "    col_order.append(f'y_{i}')\n",
    "polygons[col_order].to_csv('polygons.csv', index=False)"
   ]
  },
  {
   "cell_type": "code",
   "execution_count": 29,
   "metadata": {},
   "outputs": [
    {
     "data": {
      "image/svg+xml": [
       "<svg xmlns=\"http://www.w3.org/2000/svg\" xmlns:xlink=\"http://www.w3.org/1999/xlink\" width=\"100.0\" height=\"100.0\" viewBox=\"0.3267794785727251 0.1043071837741075 0.4818571866691104 0.13806538553971479\" preserveAspectRatio=\"xMinYMin meet\"><g transform=\"matrix(1,0,0,-1,0,0.34667975308792975)\"><path fill-rule=\"evenodd\" fill=\"#66cc99\" stroke=\"#555555\" stroke-width=\"0.009637143733382208\" opacity=\"0.6\" d=\"M 0.34462604104195144,0.22452600684459598 L 0.7907901027726092,0.1221537462433338 L 0.5623260861381665,0.13775885428143514 L 0.3474847187750419,0.15704814697078937 L 0.4041304652380683,0.15696275520730144 L 0.34462604104195144,0.22452600684459598 z\" /></g></svg>"
      ],
      "text/plain": [
       "<POLYGON ((0.345 0.225, 0.791 0.122, 0.562 0.138, 0.347 0.157, 0.404 0.157, ...>"
      ]
     },
     "metadata": {},
     "output_type": "display_data"
    },
    {
     "data": {
      "image/svg+xml": [
       "<svg xmlns=\"http://www.w3.org/2000/svg\" xmlns:xlink=\"http://www.w3.org/1999/xlink\" width=\"100.0\" height=\"100.0\" viewBox=\"0.4233781927637225 0.09026428543464243 0.35713068238508966 0.13839147870811308\" preserveAspectRatio=\"xMinYMin meet\"><g transform=\"matrix(1,0,0,-1,0,0.31892004957739795)\"><path fill-rule=\"evenodd\" fill=\"#66cc99\" stroke=\"#555555\" stroke-width=\"0.007142613647701793\" opacity=\"0.6\" d=\"M 0.436751064951612,0.21542870183219665 L 0.4366052550742814,0.1524004487298222 L 0.7672818128382533,0.1034913477452013 L 0.644802674643951,0.14123944112624115 L 0.6908487732574649,0.12222731526430264 L 0.436751064951612,0.21542870183219665 z\" /></g></svg>"
      ],
      "text/plain": [
       "<POLYGON ((0.437 0.215, 0.437 0.152, 0.767 0.103, 0.645 0.141, 0.691 0.122, ...>"
      ]
     },
     "metadata": {},
     "output_type": "display_data"
    },
    {
     "data": {
      "image/svg+xml": [
       "<svg xmlns=\"http://www.w3.org/2000/svg\" xmlns:xlink=\"http://www.w3.org/1999/xlink\" width=\"100.0\" height=\"100.0\" viewBox=\"0.25967449226402173 0.10823993658850756 0.47205033207791747 0.14085229878061264\" preserveAspectRatio=\"xMinYMin meet\"><g transform=\"matrix(1,0,0,-1,0,0.3573321719576278)\"><path fill-rule=\"evenodd\" fill=\"#66cc99\" stroke=\"#555555\" stroke-width=\"0.00944100664155835\" opacity=\"0.6\" d=\"M 0.7142414787094238,0.18810715849262455 L 0.2829210845764925,0.12572328222102302 L 0.2771578378965372,0.20252192791552656 L 0.2919788085050427,0.1405664287446847 L 0.6788527349722322,0.23160888973660473 L 0.7142414787094238,0.18810715849262455 z\" /></g></svg>"
      ],
      "text/plain": [
       "<POLYGON ((0.714 0.188, 0.283 0.126, 0.277 0.203, 0.292 0.141, 0.679 0.232, ...>"
      ]
     },
     "metadata": {},
     "output_type": "display_data"
    },
    {
     "data": {
      "image/svg+xml": [
       "<svg xmlns=\"http://www.w3.org/2000/svg\" xmlns:xlink=\"http://www.w3.org/1999/xlink\" width=\"100.0\" height=\"100.0\" viewBox=\"0.305312249748732 0.11478679209785599 0.40810567931308755 0.11018335555974586\" preserveAspectRatio=\"xMinYMin meet\"><g transform=\"matrix(1,0,0,-1,0,0.33975693975545784)\"><path fill-rule=\"evenodd\" fill=\"#66cc99\" stroke=\"#555555\" stroke-width=\"0.008162113586261751\" opacity=\"0.6\" d=\"M 0.6983029039020756,0.20985512249785787 L 0.320427274908476,0.18594493547101443 L 0.4676395883566487,0.1807283910739937 L 0.3439934670168395,0.16305839238514944 L 0.32221389496096575,0.12990181725759997 L 0.6983029039020756,0.20985512249785787 z\" /></g></svg>"
      ],
      "text/plain": [
       "<POLYGON ((0.698 0.21, 0.32 0.186, 0.468 0.181, 0.344 0.163, 0.322 0.13, 0.6...>"
      ]
     },
     "metadata": {},
     "output_type": "display_data"
    },
    {
     "data": {
      "image/svg+xml": [
       "<svg xmlns=\"http://www.w3.org/2000/svg\" xmlns:xlink=\"http://www.w3.org/1999/xlink\" width=\"100.0\" height=\"100.0\" viewBox=\"0.28500995564255555 0.12404866016516496 0.4987072039429132 0.16196286832143808\" preserveAspectRatio=\"xMinYMin meet\"><g transform=\"matrix(1,0,0,-1,0,0.410060188651768)\"><path fill-rule=\"evenodd\" fill=\"#66cc99\" stroke=\"#555555\" stroke-width=\"0.009974144078858264\" opacity=\"0.6\" d=\"M 0.4060423029883168,0.24782896874767268 L 0.5806368326955039,0.14251929734823582 L 0.7652465224023979,0.2675408913035322 L 0.3034805928256264,0.24844214901339415 L 0.3871384136171967,0.17902202857822186 L 0.4060423029883168,0.24782896874767268 z\" /></g></svg>"
      ],
      "text/plain": [
       "<POLYGON ((0.406 0.248, 0.581 0.143, 0.765 0.268, 0.303 0.248, 0.387 0.179, ...>"
      ]
     },
     "metadata": {},
     "output_type": "display_data"
    },
    {
     "data": {
      "image/svg+xml": [
       "<svg xmlns=\"http://www.w3.org/2000/svg\" xmlns:xlink=\"http://www.w3.org/1999/xlink\" width=\"100.0\" height=\"100.0\" viewBox=\"0.1999434531062392 0.13201078186276188 0.6164145749458909 0.1830538727754269\" preserveAspectRatio=\"xMinYMin meet\"><g transform=\"matrix(1,0,0,-1,0,0.44707543650095066)\"><path fill-rule=\"evenodd\" fill=\"#66cc99\" stroke=\"#555555\" stroke-width=\"0.012328291498917818\" opacity=\"0.6\" d=\"M 0.2249426452763082,0.29223448519574835 L 0.3598159168750352,0.24708494720088967 L 0.2227736225486796,0.21900102490469706 L 0.5178112362993437,0.18590393398437907 L 0.7935278586096897,0.15484095130520228 L 0.2249426452763082,0.29223448519574835 z\" /></g></svg>"
      ],
      "text/plain": [
       "<POLYGON ((0.225 0.292, 0.36 0.247, 0.223 0.219, 0.518 0.186, 0.794 0.155, 0...>"
      ]
     },
     "metadata": {},
     "output_type": "display_data"
    },
    {
     "data": {
      "image/svg+xml": [
       "<svg xmlns=\"http://www.w3.org/2000/svg\" xmlns:xlink=\"http://www.w3.org/1999/xlink\" width=\"100.0\" height=\"100.0\" viewBox=\"0.22569759185426105 0.09342109005855673 0.5598998077811126 0.20150728385899006\" preserveAspectRatio=\"xMinYMin meet\"><g transform=\"matrix(1,0,0,-1,0,0.3883494639761035)\"><path fill-rule=\"evenodd\" fill=\"#66cc99\" stroke=\"#555555\" stroke-width=\"0.011197996155622251\" opacity=\"0.6\" d=\"M 0.44356885567843635,0.1839154673128518 L 0.5783704817129329,0.21859658329871898 L 0.47316983522756606,0.2741913439997278 L 0.7648603697175547,0.18284468864317538 L 0.24643462177208003,0.1141581199763757 L 0.44356885567843635,0.1839154673128518 z\" /></g></svg>"
      ],
      "text/plain": [
       "<POLYGON ((0.444 0.184, 0.578 0.219, 0.473 0.274, 0.765 0.183, 0.246 0.114, ...>"
      ]
     },
     "metadata": {},
     "output_type": "display_data"
    },
    {
     "data": {
      "image/svg+xml": [
       "<svg xmlns=\"http://www.w3.org/2000/svg\" xmlns:xlink=\"http://www.w3.org/1999/xlink\" width=\"100.0\" height=\"100.0\" viewBox=\"0.24861534309513986 0.18548421169502508 0.5426869734255729 0.1002933739694499\" preserveAspectRatio=\"xMinYMin meet\"><g transform=\"matrix(1,0,0,-1,0,0.4712617973595)\"><path fill-rule=\"evenodd\" fill=\"#66cc99\" stroke=\"#555555\" stroke-width=\"0.010853739468511458\" opacity=\"0.6\" d=\"M 0.7712027989864323,0.2166075788558562 L 0.7238606833801036,0.24322660128316068 L 0.26871486062942035,0.2656780681301945 L 0.471170481562059,0.2502213806902018 L 0.45735914888957346,0.20558372922930557 L 0.7712027989864323,0.2166075788558562 z\" /></g></svg>"
      ],
      "text/plain": [
       "<POLYGON ((0.771 0.217, 0.724 0.243, 0.269 0.266, 0.471 0.25, 0.457 0.206, 0...>"
      ]
     },
     "metadata": {},
     "output_type": "display_data"
    },
    {
     "data": {
      "image/svg+xml": [
       "<svg xmlns=\"http://www.w3.org/2000/svg\" xmlns:xlink=\"http://www.w3.org/1999/xlink\" width=\"100.0\" height=\"100.0\" viewBox=\"0.3309248640033773 0.10038373606685697 0.4688812298657189 0.20040682964736617\" preserveAspectRatio=\"xMinYMin meet\"><g transform=\"matrix(1,0,0,-1,0,0.4011743017810801)\"><path fill-rule=\"evenodd\" fill=\"#66cc99\" stroke=\"#555555\" stroke-width=\"0.009377624597314378\" opacity=\"0.6\" d=\"M 0.7824401223925881,0.1965959700099678 L 0.3482908354798854,0.11774970754336507 L 0.5282630373156829,0.2259094720793102 L 0.4300864480839298,0.27227572197704736 L 0.535222467014872,0.28342459423771504 L 0.7824401223925881,0.1965959700099678 z\" /></g></svg>"
      ],
      "text/plain": [
       "<POLYGON ((0.782 0.197, 0.348 0.118, 0.528 0.226, 0.43 0.272, 0.535 0.283, 0...>"
      ]
     },
     "metadata": {},
     "output_type": "display_data"
    },
    {
     "data": {
      "image/svg+xml": [
       "<svg xmlns=\"http://www.w3.org/2000/svg\" xmlns:xlink=\"http://www.w3.org/1999/xlink\" width=\"100.0\" height=\"100.0\" viewBox=\"0.3072347501920809 0.17007482581948663 0.2907651038598571 0.12397468979676307\" preserveAspectRatio=\"xMinYMin meet\"><g transform=\"matrix(1,0,0,-1,0,0.46412434143573633)\"><path fill-rule=\"evenodd\" fill=\"#66cc99\" stroke=\"#555555\" stroke-width=\"0.005815302077197142\" opacity=\"0.6\" d=\"M 0.5872307761312026,0.25229842436025207 L 0.58631497339708,0.18084390374022208 L 0.34847290221098526,0.2115445820083638 L 0.31800382811281636,0.23888927251283426 L 0.5177551431697411,0.28328043769551425 L 0.5872307761312026,0.25229842436025207 z\" /></g></svg>"
      ],
      "text/plain": [
       "<POLYGON ((0.587 0.252, 0.586 0.181, 0.348 0.212, 0.318 0.239, 0.518 0.283, ...>"
      ]
     },
     "metadata": {},
     "output_type": "display_data"
    }
   ],
   "source": [
    "from IPython.display import display\n",
    "\n",
    "for i in range(10):\n",
    "    display(polygons_geometries[i])"
   ]
  }
 ],
 "metadata": {
  "kernelspec": {
   "display_name": "Python 3",
   "language": "python",
   "name": "python3"
  },
  "language_info": {
   "codemirror_mode": {
    "name": "ipython",
    "version": 3
   },
   "file_extension": ".py",
   "mimetype": "text/x-python",
   "name": "python",
   "nbconvert_exporter": "python",
   "pygments_lexer": "ipython3",
   "version": "3.11.9"
  }
 },
 "nbformat": 4,
 "nbformat_minor": 2
}
