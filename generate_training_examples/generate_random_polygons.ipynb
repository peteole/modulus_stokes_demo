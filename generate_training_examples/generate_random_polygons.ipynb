{
 "cells": [
  {
   "cell_type": "code",
   "execution_count": 1,
   "metadata": {},
   "outputs": [
    {
     "data": {
      "text/html": [
       "<div>\n",
       "<style scoped>\n",
       "    .dataframe tbody tr th:only-of-type {\n",
       "        vertical-align: middle;\n",
       "    }\n",
       "\n",
       "    .dataframe tbody tr th {\n",
       "        vertical-align: top;\n",
       "    }\n",
       "\n",
       "    .dataframe thead th {\n",
       "        text-align: right;\n",
       "    }\n",
       "</style>\n",
       "<table border=\"1\" class=\"dataframe\">\n",
       "  <thead>\n",
       "    <tr style=\"text-align: right;\">\n",
       "      <th></th>\n",
       "      <th>x_0</th>\n",
       "      <th>y_0</th>\n",
       "      <th>x_1</th>\n",
       "      <th>y_1</th>\n",
       "      <th>x_2</th>\n",
       "      <th>y_2</th>\n",
       "      <th>x_3</th>\n",
       "      <th>y_3</th>\n",
       "    </tr>\n",
       "  </thead>\n",
       "  <tbody>\n",
       "    <tr>\n",
       "      <th>0</th>\n",
       "      <td>0.449727</td>\n",
       "      <td>0.262239</td>\n",
       "      <td>0.201018</td>\n",
       "      <td>0.271699</td>\n",
       "      <td>0.703507</td>\n",
       "      <td>0.139197</td>\n",
       "      <td>0.423430</td>\n",
       "      <td>0.224418</td>\n",
       "    </tr>\n",
       "    <tr>\n",
       "      <th>1</th>\n",
       "      <td>0.363295</td>\n",
       "      <td>0.176542</td>\n",
       "      <td>0.713912</td>\n",
       "      <td>0.280778</td>\n",
       "      <td>0.375843</td>\n",
       "      <td>0.204555</td>\n",
       "      <td>0.355103</td>\n",
       "      <td>0.266979</td>\n",
       "    </tr>\n",
       "    <tr>\n",
       "      <th>2</th>\n",
       "      <td>0.219677</td>\n",
       "      <td>0.112302</td>\n",
       "      <td>0.323398</td>\n",
       "      <td>0.282905</td>\n",
       "      <td>0.319790</td>\n",
       "      <td>0.237719</td>\n",
       "      <td>0.326966</td>\n",
       "      <td>0.177937</td>\n",
       "    </tr>\n",
       "    <tr>\n",
       "      <th>3</th>\n",
       "      <td>0.739140</td>\n",
       "      <td>0.139096</td>\n",
       "      <td>0.322176</td>\n",
       "      <td>0.119451</td>\n",
       "      <td>0.577417</td>\n",
       "      <td>0.162863</td>\n",
       "      <td>0.621321</td>\n",
       "      <td>0.208533</td>\n",
       "    </tr>\n",
       "    <tr>\n",
       "      <th>4</th>\n",
       "      <td>0.256727</td>\n",
       "      <td>0.242398</td>\n",
       "      <td>0.696967</td>\n",
       "      <td>0.110293</td>\n",
       "      <td>0.403950</td>\n",
       "      <td>0.125656</td>\n",
       "      <td>0.350599</td>\n",
       "      <td>0.112631</td>\n",
       "    </tr>\n",
       "    <tr>\n",
       "      <th>...</th>\n",
       "      <td>...</td>\n",
       "      <td>...</td>\n",
       "      <td>...</td>\n",
       "      <td>...</td>\n",
       "      <td>...</td>\n",
       "      <td>...</td>\n",
       "      <td>...</td>\n",
       "      <td>...</td>\n",
       "    </tr>\n",
       "    <tr>\n",
       "      <th>995</th>\n",
       "      <td>0.508671</td>\n",
       "      <td>0.114209</td>\n",
       "      <td>0.738760</td>\n",
       "      <td>0.215296</td>\n",
       "      <td>0.672191</td>\n",
       "      <td>0.284743</td>\n",
       "      <td>0.219275</td>\n",
       "      <td>0.118102</td>\n",
       "    </tr>\n",
       "    <tr>\n",
       "      <th>996</th>\n",
       "      <td>0.555786</td>\n",
       "      <td>0.197525</td>\n",
       "      <td>0.568092</td>\n",
       "      <td>0.234116</td>\n",
       "      <td>0.659131</td>\n",
       "      <td>0.132993</td>\n",
       "      <td>0.549261</td>\n",
       "      <td>0.150489</td>\n",
       "    </tr>\n",
       "    <tr>\n",
       "      <th>997</th>\n",
       "      <td>0.744858</td>\n",
       "      <td>0.231073</td>\n",
       "      <td>0.506645</td>\n",
       "      <td>0.184657</td>\n",
       "      <td>0.489967</td>\n",
       "      <td>0.105559</td>\n",
       "      <td>0.477197</td>\n",
       "      <td>0.189343</td>\n",
       "    </tr>\n",
       "    <tr>\n",
       "      <th>998</th>\n",
       "      <td>0.686978</td>\n",
       "      <td>0.115507</td>\n",
       "      <td>0.633744</td>\n",
       "      <td>0.259857</td>\n",
       "      <td>0.351942</td>\n",
       "      <td>0.298435</td>\n",
       "      <td>0.393116</td>\n",
       "      <td>0.268319</td>\n",
       "    </tr>\n",
       "    <tr>\n",
       "      <th>999</th>\n",
       "      <td>0.782207</td>\n",
       "      <td>0.187741</td>\n",
       "      <td>0.471805</td>\n",
       "      <td>0.252061</td>\n",
       "      <td>0.362822</td>\n",
       "      <td>0.295097</td>\n",
       "      <td>0.681514</td>\n",
       "      <td>0.275628</td>\n",
       "    </tr>\n",
       "  </tbody>\n",
       "</table>\n",
       "<p>1000 rows × 8 columns</p>\n",
       "</div>"
      ],
      "text/plain": [
       "          x_0       y_0       x_1       y_1       x_2       y_2       x_3  \\\n",
       "0    0.449727  0.262239  0.201018  0.271699  0.703507  0.139197  0.423430   \n",
       "1    0.363295  0.176542  0.713912  0.280778  0.375843  0.204555  0.355103   \n",
       "2    0.219677  0.112302  0.323398  0.282905  0.319790  0.237719  0.326966   \n",
       "3    0.739140  0.139096  0.322176  0.119451  0.577417  0.162863  0.621321   \n",
       "4    0.256727  0.242398  0.696967  0.110293  0.403950  0.125656  0.350599   \n",
       "..        ...       ...       ...       ...       ...       ...       ...   \n",
       "995  0.508671  0.114209  0.738760  0.215296  0.672191  0.284743  0.219275   \n",
       "996  0.555786  0.197525  0.568092  0.234116  0.659131  0.132993  0.549261   \n",
       "997  0.744858  0.231073  0.506645  0.184657  0.489967  0.105559  0.477197   \n",
       "998  0.686978  0.115507  0.633744  0.259857  0.351942  0.298435  0.393116   \n",
       "999  0.782207  0.187741  0.471805  0.252061  0.362822  0.295097  0.681514   \n",
       "\n",
       "          y_3  \n",
       "0    0.224418  \n",
       "1    0.266979  \n",
       "2    0.177937  \n",
       "3    0.208533  \n",
       "4    0.112631  \n",
       "..        ...  \n",
       "995  0.118102  \n",
       "996  0.150489  \n",
       "997  0.189343  \n",
       "998  0.268319  \n",
       "999  0.275628  \n",
       "\n",
       "[1000 rows x 8 columns]"
      ]
     },
     "execution_count": 1,
     "metadata": {},
     "output_type": "execute_result"
    }
   ],
   "source": [
    "import shapely\n",
    "import pandas as pd\n",
    "import numpy as np\n",
    "\n",
    "x_min = 0.2\n",
    "x_max = 0.8\n",
    "y_min = 0.1\n",
    "y_max = 0.3\n",
    "\n",
    "\n",
    "num_points = 4\n",
    "num_polygons = 1000\n",
    "polygons = pd.DataFrame()\n",
    "for i in range(num_points):\n",
    "    polygons[f'x_{i}']= np.zeros(num_polygons)\n",
    "    polygons[f'y_{i}']= np.zeros(num_polygons)\n",
    "polygons_geometries=[]\n",
    "\n",
    "for i in range(num_polygons):\n",
    "    is_valid = False\n",
    "    while not is_valid:\n",
    "        for j in range(num_points):\n",
    "            polygons[f'x_{j}'][i] = np.random.uniform(x_min, x_max)\n",
    "            polygons[f'y_{j}'][i] = np.random.uniform(y_min, y_max)\n",
    "        polygon = shapely.geometry.Polygon(zip([polygons[f'x_{j}'][i] for j in range(num_points)], [polygons[f'y_{j}'][i] for j in range(num_points)]))\n",
    "        is_valid = polygon.is_simple\n",
    "    polygons_geometries.append(polygon)\n",
    "polygons"
   ]
  },
  {
   "cell_type": "code",
   "execution_count": 2,
   "metadata": {},
   "outputs": [],
   "source": [
    "col_order=[]\n",
    "for i in range(num_points):\n",
    "    col_order.append(f'x_{i}')\n",
    "    col_order.append(f'y_{i}')\n",
    "polygons[col_order].to_csv('polygons.csv', index=False)"
   ]
  },
  {
   "cell_type": "code",
   "execution_count": 3,
   "metadata": {},
   "outputs": [
    {
     "data": {
      "image/svg+xml": [
       "<svg xmlns=\"http://www.w3.org/2000/svg\" xmlns:xlink=\"http://www.w3.org/1999/xlink\" width=\"100.0\" height=\"100.0\" viewBox=\"0.18091800656537788 0.11909782799324953 0.5426887933072415 0.17270084231512617\" preserveAspectRatio=\"xMinYMin meet\"><g transform=\"matrix(1,0,0,-1,0,0.4108964983016252)\"><path fill-rule=\"evenodd\" fill=\"#66cc99\" stroke=\"#555555\" stroke-width=\"0.01085377586614483\" opacity=\"0.6\" d=\"M 0.4497270938151743,0.2622394548428716 L 0.2010175915026831,0.27169908537107046 L 0.7035072149353141,0.13919741293055476 L 0.4234304447144599,0.22441810690733288 L 0.4497270938151743,0.2622394548428716 z\" /></g></svg>"
      ],
      "text/plain": [
       "<POLYGON ((0.45 0.262, 0.201 0.272, 0.704 0.139, 0.423 0.224, 0.45 0.262))>"
      ]
     },
     "metadata": {},
     "output_type": "display_data"
    },
    {
     "data": {
      "image/svg+xml": [
       "<svg xmlns=\"http://www.w3.org/2000/svg\" xmlns:xlink=\"http://www.w3.org/1999/xlink\" width=\"100.0\" height=\"100.0\" viewBox=\"0.34075038236731625 0.16218938703655755 0.38751348757363 0.13294050022386217\" preserveAspectRatio=\"xMinYMin meet\"><g transform=\"matrix(1,0,0,-1,0,0.4573192742969773)\"><path fill-rule=\"evenodd\" fill=\"#66cc99\" stroke=\"#555555\" stroke-width=\"0.0077502697514726\" opacity=\"0.6\" d=\"M 0.3632953346743464,0.17654173842817347 L 0.7139115185493303,0.2807775358688038 L 0.3758428197567875,0.20455535096107147 L 0.3551027337589322,0.26697916312066583 L 0.3632953346743464,0.17654173842817347 z\" /></g></svg>"
      ],
      "text/plain": [
       "<POLYGON ((0.363 0.177, 0.714 0.281, 0.376 0.205, 0.355 0.267, 0.363 0.177))>"
      ]
     },
     "metadata": {},
     "output_type": "display_data"
    },
    {
     "data": {
      "image/svg+xml": [
       "<svg xmlns=\"http://www.w3.org/2000/svg\" xmlns:xlink=\"http://www.w3.org/1999/xlink\" width=\"100.0\" height=\"100.0\" viewBox=\"0.21285247983781422 0.10547804450115852 0.12093749733115686 0.1842514253844508\" preserveAspectRatio=\"xMinYMin meet\"><g transform=\"matrix(1,0,0,-1,0,0.3952075143867678)\"><path fill-rule=\"evenodd\" fill=\"#66cc99\" stroke=\"#555555\" stroke-width=\"0.003685028507689016\" opacity=\"0.6\" d=\"M 0.219676606703905,0.11230217136724929 L 0.323398486906662,0.28290534301951853 L 0.31978997148946897,0.2377185689286001 L 0.3269658503028803,0.17793695997383444 L 0.219676606703905,0.11230217136724929 z\" /></g></svg>"
      ],
      "text/plain": [
       "<POLYGON ((0.22 0.112, 0.323 0.283, 0.32 0.238, 0.327 0.178, 0.22 0.112))>"
      ]
     },
     "metadata": {},
     "output_type": "display_data"
    },
    {
     "data": {
      "image/svg+xml": [
       "<svg xmlns=\"http://www.w3.org/2000/svg\" xmlns:xlink=\"http://www.w3.org/1999/xlink\" width=\"100.0\" height=\"100.0\" viewBox=\"0.3054972982642988 0.10277293797132624 0.45032078180116525 0.12243855427355911\" preserveAspectRatio=\"xMinYMin meet\"><g transform=\"matrix(1,0,0,-1,0,0.3279844302162116)\"><path fill-rule=\"evenodd\" fill=\"#66cc99\" stroke=\"#555555\" stroke-width=\"0.009006415636023305\" opacity=\"0.6\" d=\"M 0.7391395325913468,0.13909619830017744 L 0.322175845738416,0.11945148544544347 L 0.5774167761569992,0.16286316569200712 L 0.621321023779202,0.2085329447707681 L 0.7391395325913468,0.13909619830017744 z\" /></g></svg>"
      ],
      "text/plain": [
       "<POLYGON ((0.739 0.139, 0.322 0.119, 0.577 0.163, 0.621 0.209, 0.739 0.139))>"
      ]
     },
     "metadata": {},
     "output_type": "display_data"
    },
    {
     "data": {
      "image/svg+xml": [
       "<svg xmlns=\"http://www.w3.org/2000/svg\" xmlns:xlink=\"http://www.w3.org/1999/xlink\" width=\"100.0\" height=\"100.0\" viewBox=\"0.23911748869330118 0.09268301726195956 0.47545954107010135 0.16732488333694873\" preserveAspectRatio=\"xMinYMin meet\"><g transform=\"matrix(1,0,0,-1,0,0.3526909178608678)\"><path fill-rule=\"evenodd\" fill=\"#66cc99\" stroke=\"#555555\" stroke-width=\"0.009509190821402027\" opacity=\"0.6\" d=\"M 0.2567271013255272,0.24239828796668228 L 0.6969674171311766,0.11029262989418553 L 0.40395025592867617,0.1256557577096949 L 0.3505992906982439,0.11263126750049567 L 0.2567271013255272,0.24239828796668228 z\" /></g></svg>"
      ],
      "text/plain": [
       "<POLYGON ((0.257 0.242, 0.697 0.11, 0.404 0.126, 0.351 0.113, 0.257 0.242))>"
      ]
     },
     "metadata": {},
     "output_type": "display_data"
    },
    {
     "data": {
      "image/svg+xml": [
       "<svg xmlns=\"http://www.w3.org/2000/svg\" xmlns:xlink=\"http://www.w3.org/1999/xlink\" width=\"100.0\" height=\"100.0\" viewBox=\"0.2347585510468318 0.12255471689664237 0.5197793399135824 0.15243784453886816\" preserveAspectRatio=\"xMinYMin meet\"><g transform=\"matrix(1,0,0,-1,0,0.3975472783321529)\"><path fill-rule=\"evenodd\" fill=\"#66cc99\" stroke=\"#555555\" stroke-width=\"0.010395586798271648\" opacity=\"0.6\" d=\"M 0.3685209373830235,0.14180580356010838 L 0.7352868042969483,0.2557414747720445 L 0.3397978464252113,0.18229954983409283 L 0.25400963771029783,0.1718248137246177 L 0.3685209373830235,0.14180580356010838 z\" /></g></svg>"
      ],
      "text/plain": [
       "<POLYGON ((0.369 0.142, 0.735 0.256, 0.34 0.182, 0.254 0.172, 0.369 0.142))>"
      ]
     },
     "metadata": {},
     "output_type": "display_data"
    },
    {
     "data": {
      "image/svg+xml": [
       "<svg xmlns=\"http://www.w3.org/2000/svg\" xmlns:xlink=\"http://www.w3.org/1999/xlink\" width=\"100.0\" height=\"100.0\" viewBox=\"0.3309384552194928 0.1410081484206417 0.4091901527725175 0.15286979561109237\" preserveAspectRatio=\"xMinYMin meet\"><g transform=\"matrix(1,0,0,-1,0,0.43488609245237575)\"><path fill-rule=\"evenodd\" fill=\"#66cc99\" stroke=\"#555555\" stroke-width=\"0.00818380305545035\" opacity=\"0.6\" d=\"M 0.34609364606291937,0.24595330445336913 L 0.7249734171485838,0.27872275318830747 L 0.5252760848981477,0.15616333926406825 L 0.36898312491007,0.16159191318796282 L 0.34609364606291937,0.24595330445336913 z\" /></g></svg>"
      ],
      "text/plain": [
       "<POLYGON ((0.346 0.246, 0.725 0.279, 0.525 0.156, 0.369 0.162, 0.346 0.246))>"
      ]
     },
     "metadata": {},
     "output_type": "display_data"
    },
    {
     "data": {
      "image/svg+xml": [
       "<svg xmlns=\"http://www.w3.org/2000/svg\" xmlns:xlink=\"http://www.w3.org/1999/xlink\" width=\"100.0\" height=\"100.0\" viewBox=\"0.31246417298276113 0.18743144329608713 0.4963154002764873 0.12294329212733912\" preserveAspectRatio=\"xMinYMin meet\"><g transform=\"matrix(1,0,0,-1,0,0.4978061787195134)\"><path fill-rule=\"evenodd\" fill=\"#66cc99\" stroke=\"#555555\" stroke-width=\"0.009926308005529745\" opacity=\"0.6\" d=\"M 0.33084622484485326,0.20581349515817926 L 0.7903975213971564,0.2919926835613341 L 0.7576618642707047,0.22800656208645798 L 0.7643924204253123,0.25145066453310805 L 0.33084622484485326,0.20581349515817926 z\" /></g></svg>"
      ],
      "text/plain": [
       "<POLYGON ((0.331 0.206, 0.79 0.292, 0.758 0.228, 0.764 0.251, 0.331 0.206))>"
      ]
     },
     "metadata": {},
     "output_type": "display_data"
    },
    {
     "data": {
      "image/svg+xml": [
       "<svg xmlns=\"http://www.w3.org/2000/svg\" xmlns:xlink=\"http://www.w3.org/1999/xlink\" width=\"100.0\" height=\"100.0\" viewBox=\"0.4231338856371499 0.15613413641750395 0.2851497000898337 0.08751199615352706\" preserveAspectRatio=\"xMinYMin meet\"><g transform=\"matrix(1,0,0,-1,0,0.39978026898853497)\"><path fill-rule=\"evenodd\" fill=\"#66cc99\" stroke=\"#555555\" stroke-width=\"0.005702994001796674\" opacity=\"0.6\" d=\"M 0.6977224857236564,0.23308503256770385 L 0.6750729785124694,0.22990351551523 L 0.5138279916106309,0.16669523642083112 L 0.43369498564047704,0.20452081824654078 L 0.6977224857236564,0.23308503256770385 z\" /></g></svg>"
      ],
      "text/plain": [
       "<POLYGON ((0.698 0.233, 0.675 0.23, 0.514 0.167, 0.434 0.205, 0.698 0.233))>"
      ]
     },
     "metadata": {},
     "output_type": "display_data"
    },
    {
     "data": {
      "image/svg+xml": [
       "<svg xmlns=\"http://www.w3.org/2000/svg\" xmlns:xlink=\"http://www.w3.org/1999/xlink\" width=\"100.0\" height=\"100.0\" viewBox=\"0.2387088309278496 0.1108320006641574 0.4471439454718937 0.14894684347081155\" preserveAspectRatio=\"xMinYMin meet\"><g transform=\"matrix(1,0,0,-1,0,0.3706108447991263)\"><path fill-rule=\"evenodd\" fill=\"#66cc99\" stroke=\"#555555\" stroke-width=\"0.008942878909437874\" opacity=\"0.6\" d=\"M 0.255269717797179,0.1273928875334868 L 0.3404547660468574,0.14086641160029717 L 0.6692918895304139,0.12864259173308418 L 0.4235084476331152,0.24321795726563952 L 0.255269717797179,0.1273928875334868 z\" /></g></svg>"
      ],
      "text/plain": [
       "<POLYGON ((0.255 0.127, 0.34 0.141, 0.669 0.129, 0.424 0.243, 0.255 0.127))>"
      ]
     },
     "metadata": {},
     "output_type": "display_data"
    }
   ],
   "source": [
    "from IPython.display import display\n",
    "\n",
    "for i in range(10):\n",
    "    display(polygons_geometries[i])"
   ]
  },
  {
   "cell_type": "code",
   "execution_count": 4,
   "metadata": {},
   "outputs": [
    {
     "data": {
      "text/plain": [
       "array([[0.44972709, 0.20101759, 0.70350721, 0.42343044, 0.44972709],\n",
       "       [0.26223945, 0.27169909, 0.13919741, 0.22441811, 0.26223945]])"
      ]
     },
     "execution_count": 4,
     "metadata": {},
     "output_type": "execute_result"
    }
   ],
   "source": [
    "p=polygons_geometries[0]\n",
    "# get coordinates of the polygon\n",
    "np.array(p.exterior.coords.xy)"
   ]
  },
  {
   "cell_type": "code",
   "execution_count": 5,
   "metadata": {},
   "outputs": [
    {
     "data": {
      "image/png": "[encoded data removed]",
      "text/plain": [
       "<Figure size 2000x1000 with 10 Axes>"
      ]
     },
     "metadata": {},
     "output_type": "display_data"
    }
   ],
   "source": [
    "# plot 10 examples in a grid with matplotlib\n",
    "\n",
    "import matplotlib.pyplot as plt\n",
    "import matplotlib.patches as patches\n",
    "\n",
    "fig, axs = plt.subplots(2, 5, figsize=(20, 10))\n",
    "for i in range(10):\n",
    "    ax = axs[i//5, i%5]\n",
    "    ax.add_patch(patches.Polygon(np.array(polygons_geometries[i].exterior.coords), closed=True))\n",
    "    ax.set_xlim([x_min, x_max])\n",
    "    ax.set_ylim([y_min, y_max])\n",
    "    # remove ticks and numbers on the axes\n",
    "    ax.set_xticks([])\n",
    "    ax.set_yticks([])\n",
    "    \n",
    "plt.show()"
   ]
  }
 ],
 "metadata": {
  "kernelspec": {
   "display_name": "Python 3",
   "language": "python",
   "name": "python3"
  },
  "language_info": {
   "codemirror_mode": {
    "name": "ipython",
    "version": 3
   },
   "file_extension": ".py",
   "mimetype": "text/x-python",
   "name": "python",
   "nbconvert_exporter": "python",
   "pygments_lexer": "ipython3",
   "version": "3.8.10"
  }
 },
 "nbformat": 4,
 "nbformat_minor": 2
}
