{
 "cells": [
  {
   "cell_type": "code",
   "execution_count": 1,
   "metadata": {},
   "outputs": [],
   "source": [
    "import pyvista as pv\n",
    "import numpy as np"
   ]
  },
  {
   "cell_type": "code",
   "execution_count": 2,
   "metadata": {},
   "outputs": [],
   "source": [
    "#mb=pv.read(\"test_cases/test7.case\")\n",
    "#mb=pv.read(\"casetest3/2dtest3.case\")\n",
    "mb=pv.read(\"initial result/initial_result.case\")\n",
    "grid=mb[0]"
   ]
  },
  {
   "cell_type": "code",
   "execution_count": 3,
   "metadata": {},
   "outputs": [
    {
     "data": {
      "text/html": [
       "<table style='width: 100%;'><tr><th>Header</th><th>Data Arrays</th></tr><tr><td>\n",
       "<table style='width: 100%;'>\n",
       "<tr><th>UnstructuredGrid</th><th>Information</th></tr>\n",
       "<tr><td>N Cells</td><td>9376</td></tr>\n",
       "<tr><td>N Points</td><td>4883</td></tr>\n",
       "<tr><td>X Bounds</td><td>0.000e+00, 2.200e+00</td></tr>\n",
       "<tr><td>Y Bounds</td><td>0.000e+00, 4.000e-01</td></tr>\n",
       "<tr><td>Z Bounds</td><td>0.000e+00, 0.000e+00</td></tr>\n",
       "<tr><td>N Arrays</td><td>4</td></tr>\n",
       "</table>\n",
       "\n",
       "</td><td>\n",
       "<table style='width: 100%;'>\n",
       "<tr><th>Name</th><th>Field</th><th>Type</th><th>N Comp</th><th>Min</th><th>Max</th></tr>\n",
       "<tr><td><b>Pressure</b></td><td>Points</td><td>float32</td><td>1</td><td>-1.308e-03</td><td>8.643e-01</td></tr>\n",
       "<tr><td>Velocityi</td><td>Points</td><td>float32</td><td>1</td><td>0.000e+00</td><td>4.714e-01</td></tr>\n",
       "<tr><td>Velocityj</td><td>Points</td><td>float32</td><td>1</td><td>-1.476e-01</td><td>1.545e-01</td></tr>\n",
       "<tr><td>Velocity</td><td>Points</td><td>float32</td><td>3</td><td>-1.476e-01</td><td>4.714e-01</td></tr>\n",
       "</table>\n",
       "\n",
       "</td></tr> </table>"
      ],
      "text/plain": [
       "UnstructuredGrid (0x16a871240)\n",
       "  N Cells:    9376\n",
       "  N Points:   4883\n",
       "  X Bounds:   0.000e+00, 2.200e+00\n",
       "  Y Bounds:   0.000e+00, 4.000e-01\n",
       "  Z Bounds:   0.000e+00, 0.000e+00\n",
       "  N Arrays:   4"
      ]
     },
     "execution_count": 3,
     "metadata": {},
     "output_type": "execute_result"
    }
   ],
   "source": [
    "grid"
   ]
  },
  {
   "cell_type": "code",
   "execution_count": 4,
   "metadata": {},
   "outputs": [],
   "source": [
    "poly=grid.extract_geometry()\n",
    "p=grid.point_data[\"Pressure\"]\n",
    "u=grid.point_data[\"Velocityi\"]\n",
    "v=grid.point_data[\"Velocityj\"]\n",
    "\n",
    "# clear point data\n",
    "poly.clear_point_data()\n",
    "poly.point_data[\"marker\"] = np.zeros(poly.n_points,dtype=int)\n",
    "poly.point_data[\"p\"]=p\n",
    "poly.point_data[\"u\"]=u\n",
    "poly.point_data[\"v\"]=v"
   ]
  },
  {
   "cell_type": "code",
   "execution_count": 5,
   "metadata": {},
   "outputs": [],
   "source": [
    "# iterate over all points and find boundary points\n",
    "\n",
    "edges=poly.extract_feature_edges()\n",
    "edge_points=edges.points\n",
    "# mark all edge points with 4\n",
    "poly.point_data[\"marker\"][np.where(np.isin(poly.points,edge_points).all(axis=1))] = 4"
   ]
  },
  {
   "cell_type": "code",
   "execution_count": 6,
   "metadata": {},
   "outputs": [],
   "source": [
    "# mark inlet and outlet with 1\n",
    "min_x,max_x = grid.bounds[0],grid.bounds[1]\n",
    "poly.point_data[\"marker\"][poly.points[:,0] == min_x] = 1\n",
    "poly.point_data[\"marker\"][poly.points[:,0] == max_x] = 1"
   ]
  },
  {
   "cell_type": "code",
   "execution_count": 7,
   "metadata": {},
   "outputs": [
    {
     "data": {
      "application/vnd.jupyter.widget-view+json": {
       "model_id": "eae79deb280d4c29893d59029a25f478",
       "version_major": 2,
       "version_minor": 0
      },
      "text/plain": [
       "Widget(value='<iframe src=\"http://localhost:59583/index.html?ui=P_0x16a51d950_0&reconnect=auto\" class=\"pyvista…"
      ]
     },
     "metadata": {},
     "output_type": "display_data"
    }
   ],
   "source": [
    "poly.plot(scalars=\"marker\")"
   ]
  },
  {
   "cell_type": "code",
   "execution_count": 8,
   "metadata": {},
   "outputs": [
    {
     "name": "stdout",
     "output_type": "stream",
     "text": [
      " JS Error => error: Uncaught TypeError: Cannot mix BigInt and other types, use explicit conversions\n"
     ]
    }
   ],
   "source": [
    "poly.save(\"test3.vtp\")"
   ]
  }
 ],
 "metadata": {
  "kernelspec": {
   "display_name": "Python 3",
   "language": "python",
   "name": "python3"
  },
  "language_info": {
   "codemirror_mode": {
    "name": "ipython",
    "version": 3
   },
   "file_extension": ".py",
   "mimetype": "text/x-python",
   "name": "python",
   "nbconvert_exporter": "python",
   "pygments_lexer": "ipython3",
   "version": "3.11.9"
  }
 },
 "nbformat": 4,
 "nbformat_minor": 2
}
